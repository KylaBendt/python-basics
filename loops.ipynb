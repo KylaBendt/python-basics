{
  "nbformat": 4,
  "nbformat_minor": 0,
  "metadata": {
    "colab": {
      "name": "Python Loops",
      "provenance": [],
      "toc_visible": true
    },
    "kernelspec": {
      "name": "python3",
      "display_name": "Python 3"
    }
  },
  "cells": [
    {
      "cell_type": "markdown",
      "metadata": {
        "id": "Gct0z2jFTl3b",
        "colab_type": "text"
      },
      "source": [
        "# Python Loops "
      ]
    },
    {
      "cell_type": "markdown",
      "metadata": {
        "id": "RcciUpsBX0Wg",
        "colab_type": "text"
      },
      "source": [
        "## for loops in other languages"
      ]
    },
    {
      "cell_type": "markdown",
      "metadata": {
        "id": "UyQ0ZzwAU6PO",
        "colab_type": "text"
      },
      "source": [
        "\"for loops are traditionally used when you have a block of code which you want to repeat a fixed number of times\" - python documentation\n"
      ]
    },
    {
      "cell_type": "markdown",
      "metadata": {
        "id": "n51h1KJaXuf0",
        "colab_type": "text"
      },
      "source": [
        "\n",
        "**This is a common type of syntax for a lot of other languages when it comes to for loops... but it doesn't work in python:**"
      ]
    },
    {
      "cell_type": "code",
      "metadata": {
        "id": "V_ZFhhNLUK1i",
        "colab_type": "code",
        "colab": {}
      },
      "source": [
        "#these won't run\n",
        "# starting value for i, ending value, increment\n",
        "for i=1, i<5, i+1:\n",
        "  print(i)\n",
        "\n",
        "\n",
        "mylist = ['a', 'b', 'c', 'd']\n",
        "# starting value for i, ending value, increment\n",
        "for i=0, i<len(mylist), i+1:\n",
        "  print(mylist[i])\n"
      ],
      "execution_count": 0,
      "outputs": []
    },
    {
      "cell_type": "markdown",
      "metadata": {
        "id": "Eyly_3H-Yntn",
        "colab_type": "text"
      },
      "source": [
        "##Python"
      ]
    },
    {
      "cell_type": "markdown",
      "metadata": {
        "id": "9RJme6aIVw0A",
        "colab_type": "text"
      },
      "source": [
        "\"The Python for statement iterates over the members of a sequence in order, executing the block each time.\" - python documentation"
      ]
    },
    {
      "cell_type": "markdown",
      "metadata": {
        "id": "frosXQJKawjU",
        "colab_type": "text"
      },
      "source": [
        "### iterating a set number of times with range"
      ]
    },
    {
      "cell_type": "code",
      "metadata": {
        "id": "Nsa5c2bRYkpc",
        "colab_type": "code",
        "outputId": "af0957ec-9cbb-4dd8-d15c-5c6f977c199b",
        "colab": {
          "base_uri": "https://localhost:8080/",
          "height": 86
        }
      },
      "source": [
        "for i in range(1,5):\n",
        "  print(i)"
      ],
      "execution_count": 0,
      "outputs": [
        {
          "output_type": "stream",
          "text": [
            "1\n",
            "2\n",
            "3\n",
            "4\n"
          ],
          "name": "stdout"
        }
      ]
    },
    {
      "cell_type": "markdown",
      "metadata": {
        "id": "ciSZiUROa2hj",
        "colab_type": "text"
      },
      "source": [
        "### iterating over a list"
      ]
    },
    {
      "cell_type": "code",
      "metadata": {
        "id": "OO6HwYJKXfWs",
        "colab_type": "code",
        "outputId": "3b0e4e9c-b928-4f68-ce78-9a24071f192f",
        "colab": {
          "base_uri": "https://localhost:8080/",
          "height": 90
        }
      },
      "source": [
        "mylist = ['a', 'b', 'c', 'd']\n",
        "for i in mylist:\n",
        "  print(i)"
      ],
      "execution_count": 0,
      "outputs": [
        {
          "output_type": "stream",
          "text": [
            "a\n",
            "b\n",
            "c\n",
            "d\n"
          ],
          "name": "stdout"
        }
      ]
    },
    {
      "cell_type": "markdown",
      "metadata": {
        "id": "T_7SlNwc5TNj",
        "colab_type": "text"
      },
      "source": [
        "### iterating backwards over a list"
      ]
    },
    {
      "cell_type": "code",
      "metadata": {
        "id": "oGWxQs1N5cSy",
        "colab_type": "code",
        "outputId": "c19d9e40-35da-4a4a-914e-7b61929faecc",
        "colab": {
          "base_uri": "https://localhost:8080/",
          "height": 90
        }
      },
      "source": [
        "for letter in reversed(mylist):\n",
        "  print(letter)"
      ],
      "execution_count": 0,
      "outputs": [
        {
          "output_type": "stream",
          "text": [
            "d\n",
            "c\n",
            "b\n",
            "a\n"
          ],
          "name": "stdout"
        }
      ]
    },
    {
      "cell_type": "markdown",
      "metadata": {
        "id": "W5ncVU2sZmMS",
        "colab_type": "text"
      },
      "source": [
        "### indexes in a for loop"
      ]
    },
    {
      "cell_type": "code",
      "metadata": {
        "id": "Rrvtjra2WYzX",
        "colab_type": "code",
        "outputId": "0fffef62-5868-4d9a-bd3d-91da25eb9600",
        "colab": {
          "base_uri": "https://localhost:8080/",
          "height": 90
        }
      },
      "source": [
        "alpha = [\"a\", \"b\", \"c\", \"d\"]\n",
        "for idx, i in enumerate(alpha):\n",
        "  print(idx, i, alpha[idx])"
      ],
      "execution_count": 0,
      "outputs": [
        {
          "output_type": "stream",
          "text": [
            "0 a a\n",
            "1 b b\n",
            "2 c c\n",
            "3 d d\n"
          ],
          "name": "stdout"
        }
      ]
    },
    {
      "cell_type": "markdown",
      "metadata": {
        "id": "MDFH_9zibF31",
        "colab_type": "text"
      },
      "source": [
        "### nested loops"
      ]
    },
    {
      "cell_type": "code",
      "metadata": {
        "id": "WcNXT2PnVPqD",
        "colab_type": "code",
        "outputId": "a6c8c6ac-2980-438a-d849-9c290a941c24",
        "colab": {
          "base_uri": "https://localhost:8080/",
          "height": 451
        }
      },
      "source": [
        "for x in range(1, 6):\n",
        "    for y in range(1, 6):\n",
        "        print('%d * %d = %d' % (x, y, x*y))"
      ],
      "execution_count": 0,
      "outputs": [
        {
          "output_type": "stream",
          "text": [
            "1 * 1 = 1\n",
            "1 * 2 = 2\n",
            "1 * 3 = 3\n",
            "1 * 4 = 4\n",
            "1 * 5 = 5\n",
            "2 * 1 = 2\n",
            "2 * 2 = 4\n",
            "2 * 3 = 6\n",
            "2 * 4 = 8\n",
            "2 * 5 = 10\n",
            "3 * 1 = 3\n",
            "3 * 2 = 6\n",
            "3 * 3 = 9\n",
            "3 * 4 = 12\n",
            "3 * 5 = 15\n",
            "4 * 1 = 4\n",
            "4 * 2 = 8\n",
            "4 * 3 = 12\n",
            "4 * 4 = 16\n",
            "4 * 5 = 20\n",
            "5 * 1 = 5\n",
            "5 * 2 = 10\n",
            "5 * 3 = 15\n",
            "5 * 4 = 20\n",
            "5 * 5 = 25\n"
          ],
          "name": "stdout"
        }
      ]
    },
    {
      "cell_type": "markdown",
      "metadata": {
        "id": "VPMnrteGbfsJ",
        "colab_type": "text"
      },
      "source": [
        "### iterating over a string"
      ]
    },
    {
      "cell_type": "code",
      "metadata": {
        "id": "cegyvW2BbJKS",
        "colab_type": "code",
        "outputId": "6df833af-9805-4311-f98e-e0580cf9f5f6",
        "colab": {
          "base_uri": "https://localhost:8080/",
          "height": 182
        }
      },
      "source": [
        "cheer = \"CNM Divers\"\n",
        "for letter in cheer:\n",
        "  if letter != \" \":\n",
        "    print(\"Give me a '\", letter, \"'\")"
      ],
      "execution_count": 0,
      "outputs": [
        {
          "output_type": "stream",
          "text": [
            "Give me a ' C '\n",
            "Give me a ' N '\n",
            "Give me a ' M '\n",
            "Give me a ' D '\n",
            "Give me a ' i '\n",
            "Give me a ' v '\n",
            "Give me a ' e '\n",
            "Give me a ' r '\n",
            "Give me a ' s '\n"
          ],
          "name": "stdout"
        }
      ]
    },
    {
      "cell_type": "markdown",
      "metadata": {
        "id": "GEHncfSDdbKT",
        "colab_type": "text"
      },
      "source": [
        "### rocket launch"
      ]
    },
    {
      "cell_type": "code",
      "metadata": {
        "id": "LZ1nWBijcGL0",
        "colab_type": "code",
        "outputId": "890ec9ec-8401-45f5-bc42-b6aef64e2dda",
        "colab": {
          "base_uri": "https://localhost:8080/",
          "height": 191
        }
      },
      "source": [
        "# Rocket Launch!!\n",
        "# Count down from 10\n",
        "for i in range(10,0, -1):\n",
        "  print(i)"
      ],
      "execution_count": 0,
      "outputs": [
        {
          "output_type": "stream",
          "text": [
            "10\n",
            "9\n",
            "8\n",
            "7\n",
            "6\n",
            "5\n",
            "4\n",
            "3\n",
            "2\n",
            "1\n"
          ],
          "name": "stdout"
        }
      ]
    },
    {
      "cell_type": "markdown",
      "metadata": {
        "id": "Vk-_Ty7AgkYF",
        "colab_type": "text"
      },
      "source": [
        "### igpay atinlay"
      ]
    },
    {
      "cell_type": "code",
      "metadata": {
        "id": "7odPRbgydput",
        "colab_type": "code",
        "colab": {}
      },
      "source": [
        "# translate a sentence to pig latin\n",
        "# pig latin = igpay atinlay\n",
        "# keep numbers as is\n"
      ],
      "execution_count": 0,
      "outputs": []
    }
  ]
}