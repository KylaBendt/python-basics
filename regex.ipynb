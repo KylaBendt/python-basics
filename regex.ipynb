{
 "cells": [
  {
   "cell_type": "markdown",
   "metadata": {},
   "source": [
    "# Regular Expressions"
   ]
  },
  {
   "cell_type": "markdown",
   "metadata": {},
   "source": [
    "## What are regular expressions?\n"
   ]
  },
  {
   "cell_type": "markdown",
   "metadata": {},
   "source": [
    "- Regular expressions are designed for matching patterns in text.  \n",
    "- Examples are picking out three digits in a row or characters separated by white space or punctuation(i.e. words in a sentence).  \n",
    "- **They can be extremely useful for parsing & cleaning data - check that entries follow a certain format or extract parts of a string based on certain criteria**\n",
    "- The downside is that they aren't very human-readable.  \n",
    "- Sometimes called REs, regexes or regex patterns"
   ]
  },
  {
   "cell_type": "markdown",
   "metadata": {},
   "source": [
    "## Regular Expressions in Python"
   ]
  },
  {
   "cell_type": "code",
   "execution_count": 3,
   "metadata": {},
   "outputs": [],
   "source": [
    "# re is the regular expression module in python\n",
    "import re"
   ]
  },
  {
   "cell_type": "markdown",
   "metadata": {},
   "source": [
    "## Most characters match themselves\n",
    "For example `test` will match 'test'"
   ]
  },
  {
   "cell_type": "code",
   "execution_count": 12,
   "metadata": {},
   "outputs": [
    {
     "name": "stdout",
     "output_type": "stream",
     "text": [
      "<re.Match object; span=(0, 4), match='test'>\n"
     ]
    }
   ],
   "source": [
    "# Compiling the regular expression stores it as a regular expression object that you can use\n",
    "retest = re.compile('test')\n",
    "mystring = \"testing. 1. 2. 3. ...\"\n",
    "# The match method looks for matches at the beginning of a string\n",
    "# If there is a match it will return a match object \n",
    "# The match object has information about what matched\n",
    "# information about what part of the string matched\n",
    "m = retest.match(mystring)\n",
    "print(m)"
   ]
  },
  {
   "cell_type": "code",
   "execution_count": 9,
   "metadata": {},
   "outputs": [
    {
     "name": "stdout",
     "output_type": "stream",
     "text": [
      "None\n"
     ]
    }
   ],
   "source": [
    "# If there is no match, it will return None\n",
    "mystring2 = \"You can learn to be a good test taker\"\n",
    "print(retest.match(mystring2))"
   ]
  },
  {
   "cell_type": "markdown",
   "metadata": {},
   "source": [
    "## Metacharacters - special characters\n",
    "These characters have special meanings and do not match themselves\n",
    ". ^ $ * + ? { } [ ] \\ | ( )"
   ]
  },
  {
   "cell_type": "markdown",
   "metadata": {},
   "source": [
    "### Square Brackets - specify a set of characters to match\n",
    "- Called a character class\n",
    "- Characters can be listed individually or with a `-` to indicate a range\n",
    "- `[aeiouAEIOU]` would match any vowel\n",
    "- `[a-z]` would match any lowercase letter\n",
    "- Metacharacters are not active in character classes `[ab\\]` would match a,b or \\\n",
    "- You can match charcters not listed in a set by complementing a set with `^` at the beginning\n",
    "- `[^aeiouAEIOU]` would match any character that is NOT a vowel"
   ]
  },
  {
   "cell_type": "code",
   "execution_count": 15,
   "metadata": {},
   "outputs": [
    {
     "name": "stdout",
     "output_type": "stream",
     "text": [
      "<re.Match object; span=(0, 1), match='I'>\n"
     ]
    }
   ],
   "source": [
    "rebrackets = re.compile('[aeiouAEIOU]')\n",
    "mystring3 = \"I like Python, cookies and tea!\"\n",
    "m = rebrackets.match(mystring3)\n",
    "print(m)"
   ]
  },
  {
   "cell_type": "markdown",
   "metadata": {},
   "source": [
    "### Asterix - match ZERO or more times"
   ]
  },
  {
   "cell_type": "code",
   "execution_count": 17,
   "metadata": {},
   "outputs": [
    {
     "name": "stdout",
     "output_type": "stream",
     "text": [
      "<re.Match object; span=(0, 2), match='ct'> <re.Match object; span=(0, 3), match='cat'> <re.Match object; span=(0, 12), match='caaaaaaaaaat'>\n"
     ]
    }
   ],
   "source": [
    "# the * matches zero or more 'a's\n",
    "recat = re.compile('ca*t')\n",
    "# all of these will match\n",
    "m1 = recat.match(\"ct\")\n",
    "m2 = recat.match(\"cat\")\n",
    "m3 = recat.match(\"caaaaaaaaaat\")\n",
    "print(m1, m2, m3)"
   ]
  },
  {
   "cell_type": "markdown",
   "metadata": {},
   "source": [
    "### Plus sign - match ONE or more times"
   ]
  },
  {
   "cell_type": "code",
   "execution_count": null,
   "metadata": {},
   "outputs": [],
   "source": [
    "# the + matches zone or more 'a's\n",
    "recat = re.compile('ca+t')\n",
    "# all of these will match\n",
    "m1 = recat.match(\"ct\")\n",
    "m2 = recat.match(\"cat\")\n",
    "m3 = recat.match(\"caaaaaaaaaat\")\n",
    "print(m1, m2, m3)"
   ]
  },
  {
   "cell_type": "markdown",
   "metadata": {},
   "source": [
    "### Question mark - match zero or one times\n",
    "-think of this as an matching an optional character"
   ]
  },
  {
   "cell_type": "code",
   "execution_count": 18,
   "metadata": {},
   "outputs": [
    {
     "name": "stdout",
     "output_type": "stream",
     "text": [
      "<re.Match object; span=(0, 12), match='two year-old'> <re.Match object; span=(0, 11), match='two yearold'>\n"
     ]
    }
   ],
   "source": [
    "retwo = re.compile('two year-?old')\n",
    "m1 = retwo.match('two year-old')\n",
    "m2 = retwo.match('two yearold')\n",
    "print(m1, m2)"
   ]
  },
  {
   "cell_type": "markdown",
   "metadata": {},
   "source": [
    "### Backslashes - escape out special characters\n",
    "If you want to match another special character the `\\` in front of it lets you do this\n",
    "\n",
    "**Backslashes are also escape characters for strings in Python which makes things tricky and weird - read more at this link:**\n",
    "[The Backslash Plague](https://docs.python.org/2/howto/regex.html#the-backslash-plague)"
   ]
  },
  {
   "cell_type": "code",
   "execution_count": 20,
   "metadata": {},
   "outputs": [
    {
     "name": "stdout",
     "output_type": "stream",
     "text": [
      "<re.Match object; span=(0, 3), match='2+2'>\n"
     ]
    }
   ],
   "source": [
    "# this will match '2+2' whereas '2+2' without the \\ would match any series of more than three 2s\n",
    "replus = re.compile('2\\+2')\n",
    "m1 = replus.match('2+2')\n",
    "print(m1)"
   ]
  },
  {
   "cell_type": "markdown",
   "metadata": {},
   "source": [
    "### Pipe (bar, vertical line or whatever you want to call it) - match this OR that\n"
   ]
  },
  {
   "cell_type": "markdown",
   "metadata": {},
   "source": [
    "## Matching numbers, whitespace, characters, etc."
   ]
  },
  {
   "cell_type": "markdown",
   "metadata": {},
   "source": [
    "## Recommended Resources"
   ]
  },
  {
   "cell_type": "markdown",
   "metadata": {},
   "source": [
    "[Python.org Regular Expression HOWTO](https://docs.python.org/2/howto/regex.html#regex-howto)"
   ]
  },
  {
   "cell_type": "markdown",
   "metadata": {},
   "source": [
    "## Examples"
   ]
  },
  {
   "cell_type": "markdown",
   "metadata": {},
   "source": [
    "# TODO Finish this part\n",
    "Match parcel numbers\n",
    "emails\n",
    "Phone numbers\n",
    "find a data file to match\n",
    "Create homework problems"
   ]
  }
 ],
 "metadata": {
  "kernelspec": {
   "display_name": "Python 3",
   "language": "python",
   "name": "python3"
  },
  "language_info": {
   "codemirror_mode": {
    "name": "ipython",
    "version": 3
   },
   "file_extension": ".py",
   "mimetype": "text/x-python",
   "name": "python",
   "nbconvert_exporter": "python",
   "pygments_lexer": "ipython3",
   "version": "3.7.5"
  }
 },
 "nbformat": 4,
 "nbformat_minor": 4
}
