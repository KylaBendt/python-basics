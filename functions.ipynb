{
  "nbformat": 4,
  "nbformat_minor": 0,
  "metadata": {
    "colab": {
      "name": "Python Functions.ipynb",
      "provenance": [],
      "collapsed_sections": [],
      "toc_visible": true
    },
    "kernelspec": {
      "name": "python3",
      "display_name": "Python 3"
    }
  },
  "cells": [
    {
      "cell_type": "markdown",
      "metadata": {
        "id": "dB8kRlVSsUHA",
        "colab_type": "text"
      },
      "source": [
        "Functions\n",
        "- Define code that only runs when you call the function\n",
        "- Allow you to run the same code multiple times without rewriting it\n",
        "- Help with DRY- Don't Repeat Yourself\n",
        "- Can create a 'black box' - you only have to know what arguments a function expects and what it gives back\n"
      ]
    },
    {
      "cell_type": "markdown",
      "metadata": {
        "id": "HVWifynh8AQp",
        "colab_type": "text"
      },
      "source": [
        "## Basic Function Syntax"
      ]
    },
    {
      "cell_type": "markdown",
      "metadata": {
        "id": "7nGt0bAKspuv",
        "colab_type": "text"
      },
      "source": [
        "A simple function with no arguments and no return"
      ]
    },
    {
      "cell_type": "code",
      "metadata": {
        "id": "poyE65CTrb1u",
        "colab_type": "code",
        "colab": {}
      },
      "source": [
        "# This defines the function\n",
        "def hello_world1():\n",
        "  \"\"\" Prints Hello world!\"\"\"\n",
        "  print(\"Hello world!\")"
      ],
      "execution_count": 0,
      "outputs": []
    },
    {
      "cell_type": "code",
      "metadata": {
        "id": "fdBDOKEWsJb1",
        "colab_type": "code",
        "outputId": "3b5d623c-8a55-4900-d794-d4a60cb078ff",
        "colab": {
          "base_uri": "https://localhost:8080/",
          "height": 35
        }
      },
      "source": [
        "# This actually calls the code and runs the function\n",
        "hello_world1()"
      ],
      "execution_count": 0,
      "outputs": [
        {
          "output_type": "stream",
          "text": [
            "Hello world!\n"
          ],
          "name": "stdout"
        }
      ]
    },
    {
      "cell_type": "markdown",
      "metadata": {
        "id": "BOJp30QftAYm",
        "colab_type": "text"
      },
      "source": [
        "A function that takes an argument"
      ]
    },
    {
      "cell_type": "code",
      "metadata": {
        "id": "Amh2HLI0sL0j",
        "colab_type": "code",
        "colab": {}
      },
      "source": [
        "# This function takes the argument - name\n",
        "def hello_person(name):\n",
        "  \"\"\" Prints Hello name \"\"\"\n",
        "  print(\"Hello \", name)"
      ],
      "execution_count": 0,
      "outputs": []
    },
    {
      "cell_type": "code",
      "metadata": {
        "id": "Wr9ChQp1tTSr",
        "colab_type": "code",
        "outputId": "f04ffe91-1c29-437d-99a8-aba86e23fb9f",
        "colab": {
          "base_uri": "https://localhost:8080/",
          "height": 35
        }
      },
      "source": [
        "# Calling this function requires passing in a name argument\n",
        "hello_person(\"Santana\")"
      ],
      "execution_count": 0,
      "outputs": [
        {
          "output_type": "stream",
          "text": [
            "Hello  Santana\n"
          ],
          "name": "stdout"
        }
      ]
    },
    {
      "cell_type": "markdown",
      "metadata": {
        "id": "KbxhUqyxtozA",
        "colab_type": "text"
      },
      "source": [
        "A funtion that takes multiple arguments and returns something"
      ]
    },
    {
      "cell_type": "code",
      "metadata": {
        "id": "5n1X_-DCtfl7",
        "colab_type": "code",
        "colab": {}
      },
      "source": [
        "# this function takes two arguments - number1 and number2 \n",
        "def add_two_numbers(number1, number2):\n",
        "  #then it returns the sum\n",
        "  return number1+number2"
      ],
      "execution_count": 0,
      "outputs": []
    },
    {
      "cell_type": "code",
      "metadata": {
        "id": "edmYBThut348",
        "colab_type": "code",
        "outputId": "d6dcb46a-b06b-414d-86d2-1ad0443b6e70",
        "colab": {
          "base_uri": "https://localhost:8080/",
          "height": 35
        }
      },
      "source": [
        "print(add_two_numbers(3,4))"
      ],
      "execution_count": 0,
      "outputs": [
        {
          "output_type": "stream",
          "text": [
            "7\n"
          ],
          "name": "stdout"
        }
      ]
    },
    {
      "cell_type": "markdown",
      "metadata": {
        "id": "pn7CZd3aD-_m",
        "colab_type": "text"
      },
      "source": [
        "## Doc blocks and function help"
      ]
    },
    {
      "cell_type": "code",
      "metadata": {
        "id": "WZyq9iV8EQiE",
        "colab_type": "code",
        "colab": {}
      },
      "source": [
        "def do_nothing():\n",
        "  # The three double quotes denote that this is the function doc block\n",
        "  \"\"\"This function does nothing\"\"\"\n"
      ],
      "execution_count": 0,
      "outputs": []
    },
    {
      "cell_type": "code",
      "metadata": {
        "id": "e71fb2SXEckA",
        "colab_type": "code",
        "outputId": "7a7256bc-19dd-45c8-8a2c-d7620d9666a4",
        "colab": {
          "base_uri": "https://localhost:8080/",
          "height": 109
        }
      },
      "source": [
        "#Calling the help function on our functin will return the doc block\n",
        "help(do_nothing)"
      ],
      "execution_count": 0,
      "outputs": [
        {
          "output_type": "stream",
          "text": [
            "Help on function do_nothing in module __main__:\n",
            "\n",
            "do_nothing()\n",
            "    This function does nothing\n",
            "\n"
          ],
          "name": "stdout"
        }
      ]
    },
    {
      "cell_type": "code",
      "metadata": {
        "id": "2K1silxpFWBI",
        "colab_type": "code",
        "colab": {}
      },
      "source": [
        "# Opens help for jupyter lab\n",
        "?do_nothing"
      ],
      "execution_count": 0,
      "outputs": []
    },
    {
      "cell_type": "code",
      "metadata": {
        "id": "9sQsp1ZEFPMM",
        "colab_type": "code",
        "colab": {}
      },
      "source": [
        "#You can also call the help function on built in functions\n",
        "?range\n"
      ],
      "execution_count": 0,
      "outputs": []
    },
    {
      "cell_type": "code",
      "metadata": {
        "id": "obwt34nObRqw",
        "colab_type": "code",
        "outputId": "5f96726a-12ee-469b-eb64-b69a4829ce66",
        "colab": {
          "base_uri": "https://localhost:8080/",
          "height": 1000
        }
      },
      "source": [
        "help(range)  "
      ],
      "execution_count": 0,
      "outputs": [
        {
          "output_type": "stream",
          "text": [
            "Help on class range in module builtins:\n",
            "\n",
            "class range(object)\n",
            " |  range(stop) -> range object\n",
            " |  range(start, stop[, step]) -> range object\n",
            " |  \n",
            " |  Return an object that produces a sequence of integers from start (inclusive)\n",
            " |  to stop (exclusive) by step.  range(i, j) produces i, i+1, i+2, ..., j-1.\n",
            " |  start defaults to 0, and stop is omitted!  range(4) produces 0, 1, 2, 3.\n",
            " |  These are exactly the valid indices for a list of 4 elements.\n",
            " |  When step is given, it specifies the increment (or decrement).\n",
            " |  \n",
            " |  Methods defined here:\n",
            " |  \n",
            " |  __bool__(self, /)\n",
            " |      self != 0\n",
            " |  \n",
            " |  __contains__(self, key, /)\n",
            " |      Return key in self.\n",
            " |  \n",
            " |  __eq__(self, value, /)\n",
            " |      Return self==value.\n",
            " |  \n",
            " |  __ge__(self, value, /)\n",
            " |      Return self>=value.\n",
            " |  \n",
            " |  __getattribute__(self, name, /)\n",
            " |      Return getattr(self, name).\n",
            " |  \n",
            " |  __getitem__(self, key, /)\n",
            " |      Return self[key].\n",
            " |  \n",
            " |  __gt__(self, value, /)\n",
            " |      Return self>value.\n",
            " |  \n",
            " |  __hash__(self, /)\n",
            " |      Return hash(self).\n",
            " |  \n",
            " |  __iter__(self, /)\n",
            " |      Implement iter(self).\n",
            " |  \n",
            " |  __le__(self, value, /)\n",
            " |      Return self<=value.\n",
            " |  \n",
            " |  __len__(self, /)\n",
            " |      Return len(self).\n",
            " |  \n",
            " |  __lt__(self, value, /)\n",
            " |      Return self<value.\n",
            " |  \n",
            " |  __ne__(self, value, /)\n",
            " |      Return self!=value.\n",
            " |  \n",
            " |  __new__(*args, **kwargs) from builtins.type\n",
            " |      Create and return a new object.  See help(type) for accurate signature.\n",
            " |  \n",
            " |  __reduce__(...)\n",
            " |      helper for pickle\n",
            " |  \n",
            " |  __repr__(self, /)\n",
            " |      Return repr(self).\n",
            " |  \n",
            " |  __reversed__(...)\n",
            " |      Return a reverse iterator.\n",
            " |  \n",
            " |  count(...)\n",
            " |      rangeobject.count(value) -> integer -- return number of occurrences of value\n",
            " |  \n",
            " |  index(...)\n",
            " |      rangeobject.index(value, [start, [stop]]) -> integer -- return index of value.\n",
            " |      Raise ValueError if the value is not present.\n",
            " |  \n",
            " |  ----------------------------------------------------------------------\n",
            " |  Data descriptors defined here:\n",
            " |  \n",
            " |  start\n",
            " |  \n",
            " |  step\n",
            " |  \n",
            " |  stop\n",
            "\n"
          ],
          "name": "stdout"
        }
      ]
    },
    {
      "cell_type": "markdown",
      "metadata": {
        "id": "9SIk882Y8t2v",
        "colab_type": "text"
      },
      "source": [
        "## Argument options"
      ]
    },
    {
      "cell_type": "markdown",
      "metadata": {
        "id": "Fj6SKVypAFg5",
        "colab_type": "text"
      },
      "source": [
        "### Poistional Arguments"
      ]
    },
    {
      "cell_type": "code",
      "metadata": {
        "id": "5joE0FIdIeQk",
        "colab_type": "code",
        "outputId": "2be6e321-c9f1-4903-ace2-456dc84206b2",
        "colab": {
          "base_uri": "https://localhost:8080/",
          "height": 54
        }
      },
      "source": [
        "def print_inputs(input1, input2):\n",
        "  print(\"input1 = \" , input1)\n",
        "  print(\"input2 = \" , input2)\n",
        "\n",
        "# Here it matches up the arguments passed by position\n",
        "# The first argument will be assigned to input1 \n",
        "# The second argument will be assigned to input2\n",
        "print_inputs(9,8) "
      ],
      "execution_count": 0,
      "outputs": [
        {
          "output_type": "stream",
          "text": [
            "input1 =  9\n",
            "input2 =  8\n"
          ],
          "name": "stdout"
        }
      ]
    },
    {
      "cell_type": "markdown",
      "metadata": {
        "id": "0AKyMVxAJRmK",
        "colab_type": "text"
      },
      "source": [
        "### Optional Parameters"
      ]
    },
    {
      "cell_type": "code",
      "metadata": {
        "id": "buJc0AHIJVmn",
        "colab_type": "code",
        "colab": {}
      },
      "source": [
        "# Optional parameters have default values \n",
        "# that will be used if no values is given\n",
        "def greet_person(name, greeting=\"Hi\"):\n",
        "  print(greeting, name)"
      ],
      "execution_count": 0,
      "outputs": []
    },
    {
      "cell_type": "code",
      "metadata": {
        "id": "84YKnJQJPkdO",
        "colab_type": "code",
        "outputId": "ac95b3d0-31cd-47d6-c1e4-cef92c1290e3",
        "colab": {
          "base_uri": "https://localhost:8080/",
          "height": 54
        }
      },
      "source": [
        "greet_person(\"Joe\")\n",
        "greet_person(\"Lewis\", greeting=\"Hola\")\n",
        "  "
      ],
      "execution_count": 0,
      "outputs": [
        {
          "output_type": "stream",
          "text": [
            "Hi Joe\n",
            "Hola Lewis\n"
          ],
          "name": "stdout"
        }
      ]
    },
    {
      "cell_type": "markdown",
      "metadata": {
        "id": "vx7w8jKX9PPJ",
        "colab_type": "text"
      },
      "source": [
        "## Return options"
      ]
    },
    {
      "cell_type": "markdown",
      "metadata": {
        "id": "afvxKXKy6I9S",
        "colab_type": "text"
      },
      "source": [
        " - `return` exits the function\n",
        " - `return` it also optionally returns a value or list, etc. (any type of object)\n",
        " - `return` can also be used to exit the function early if certain conditions are met\n",
        " - you can have multiple returns in a function (only the first one executed will be hit because `return` exits the function)\n",
        "  - `return` will return None if nothing else is specified"
      ]
    },
    {
      "cell_type": "markdown",
      "metadata": {
        "id": "EiRbp1F09Zpx",
        "colab_type": "text"
      },
      "source": [
        "### return early"
      ]
    },
    {
      "cell_type": "code",
      "metadata": {
        "id": "neTTFFaX6SRm",
        "colab_type": "code",
        "colab": {}
      },
      "source": [
        "def add_two_integers(number1, number2):\n",
        "  #check if the inputs are integers\n",
        "  if not (isinstance(number1, int) and isinstance(number2, int)):\n",
        "    #return from the function if they are not integers\n",
        "    return\n",
        "  #otherwise return the sum of the integers\n",
        " # yield number1+number2\n",
        "  return number1 * number2"
      ],
      "execution_count": 0,
      "outputs": []
    },
    {
      "cell_type": "code",
      "metadata": {
        "id": "HNEjrXsl6gD_",
        "colab_type": "code",
        "outputId": "099b4151-0dcd-4451-f0cd-6499f457f77b",
        "colab": {
          "base_uri": "https://localhost:8080/",
          "height": 282
        }
      },
      "source": [
        "print(add_two_integers(\"a\",5))\n",
        "print(add_two_integers(4,5))\n",
        "add_two_integers(1,1) ** 2\n",
        "\n",
        "results = add_two_integers(6,7)\n",
        "print(results)"
      ],
      "execution_count": 0,
      "outputs": [
        {
          "output_type": "stream",
          "text": [
            "<generator object add_two_integers at 0x7f0ba5636e08>\n",
            "<generator object add_two_integers at 0x7f0ba56a5a98>\n"
          ],
          "name": "stdout"
        },
        {
          "output_type": "error",
          "ename": "TypeError",
          "evalue": "ignored",
          "traceback": [
            "\u001b[0;31m---------------------------------------------------------------------------\u001b[0m",
            "\u001b[0;31mTypeError\u001b[0m                                 Traceback (most recent call last)",
            "\u001b[0;32m<ipython-input-63-c0547cc4d67a>\u001b[0m in \u001b[0;36m<module>\u001b[0;34m()\u001b[0m\n\u001b[1;32m      1\u001b[0m \u001b[0mprint\u001b[0m\u001b[0;34m(\u001b[0m\u001b[0madd_two_integers\u001b[0m\u001b[0;34m(\u001b[0m\u001b[0;34m\"a\"\u001b[0m\u001b[0;34m,\u001b[0m\u001b[0;36m5\u001b[0m\u001b[0;34m)\u001b[0m\u001b[0;34m)\u001b[0m\u001b[0;34m\u001b[0m\u001b[0;34m\u001b[0m\u001b[0m\n\u001b[1;32m      2\u001b[0m \u001b[0mprint\u001b[0m\u001b[0;34m(\u001b[0m\u001b[0madd_two_integers\u001b[0m\u001b[0;34m(\u001b[0m\u001b[0;36m4\u001b[0m\u001b[0;34m,\u001b[0m\u001b[0;36m5\u001b[0m\u001b[0;34m)\u001b[0m\u001b[0;34m)\u001b[0m\u001b[0;34m\u001b[0m\u001b[0;34m\u001b[0m\u001b[0m\n\u001b[0;32m----> 3\u001b[0;31m \u001b[0madd_two_integers\u001b[0m\u001b[0;34m(\u001b[0m\u001b[0;36m1\u001b[0m\u001b[0;34m,\u001b[0m\u001b[0;36m1\u001b[0m\u001b[0;34m)\u001b[0m \u001b[0;34m**\u001b[0m \u001b[0;36m2\u001b[0m\u001b[0;34m\u001b[0m\u001b[0;34m\u001b[0m\u001b[0m\n\u001b[0m\u001b[1;32m      4\u001b[0m \u001b[0;34m\u001b[0m\u001b[0m\n\u001b[1;32m      5\u001b[0m \u001b[0mresults\u001b[0m \u001b[0;34m=\u001b[0m \u001b[0madd_two_integers\u001b[0m\u001b[0;34m(\u001b[0m\u001b[0;36m6\u001b[0m\u001b[0;34m,\u001b[0m\u001b[0;36m7\u001b[0m\u001b[0;34m)\u001b[0m\u001b[0;34m\u001b[0m\u001b[0;34m\u001b[0m\u001b[0m\n",
            "\u001b[0;31mTypeError\u001b[0m: unsupported operand type(s) for ** or pow(): 'generator' and 'int'"
          ]
        }
      ]
    },
    {
      "cell_type": "code",
      "metadata": {
        "id": "KOL0EEgKdkf3",
        "colab_type": "code",
        "outputId": "b8a601a1-75c2-4e6f-8b59-4ae1489ddca4",
        "colab": {
          "base_uri": "https://localhost:8080/",
          "height": 72
        }
      },
      "source": [
        "input1= int(input())\n",
        "input2 = int(input())\n",
        "print(add_two_integers(input1, input2))"
      ],
      "execution_count": 0,
      "outputs": [
        {
          "output_type": "stream",
          "text": [
            "6\n",
            "7\n",
            "42\n"
          ],
          "name": "stdout"
        }
      ]
    },
    {
      "cell_type": "markdown",
      "metadata": {
        "id": "wM9ewnTR_frq",
        "colab_type": "text"
      },
      "source": [
        "## Examples"
      ]
    },
    {
      "cell_type": "markdown",
      "metadata": {
        "id": "LhQ7IPYE_oEB",
        "colab_type": "text"
      },
      "source": [
        "### igpay function"
      ]
    },
    {
      "cell_type": "markdown",
      "metadata": {
        "id": "-c8tJZXFuz72",
        "colab_type": "text"
      },
      "source": [
        "\n"
      ]
    },
    {
      "cell_type": "code",
      "metadata": {
        "id": "OfJyys1ve0Yi",
        "colab_type": "code",
        "outputId": "c232c16c-5470-4ce5-d4ff-a369ba51f468",
        "colab": {
          "base_uri": "https://localhost:8080/",
          "height": 54
        }
      },
      "source": [
        "phrase = \"wash your hands for at least 23.7 seconds\"\n",
        "phrase2 = \"cough into your elbow\"\n",
        "\n",
        "def is_number(s):\n",
        "    try:\n",
        "        complex(s) # for int, long, float and complex\n",
        "    except ValueError:\n",
        "        return False\n",
        "\n",
        "    return True\n",
        "\n",
        "\n",
        "def igpayTranslator(word):\n",
        "  \"\"\"translates a word into pig latin\"\"\"\n",
        "  vowels = [\"a\", \"e\", \"i\", \"o\", \"u\", \"A\", \"E\", \"I\", \"O\", \"U\"]\n",
        "  if word[0] in vowels:\n",
        "    ordway = word + \"way\"\n",
        "  else:\n",
        "    ordway = word[1:] + word[0] + \"ay\"\n",
        "  return ordway\n",
        "\n",
        "def igpayAtinlay(sentence):\n",
        "  \"\"\"translates a sentence into pig latin - keeps numbers as is\"\"\"\n",
        "  words = sentence.split()\n",
        "  newSentence = \"\"\n",
        "  for word in words:\n",
        "    if not is_number(word):\n",
        "      newSentence += igpayTranslator(word) + \" \"\n",
        "    else: newSentence += word + \" \"\n",
        "  return newSentence\n",
        "\n",
        "print(igpayAtinlay(phrase))\n",
        "print(igpayAtinlay(phrase2))\n"
      ],
      "execution_count": 0,
      "outputs": [
        {
          "output_type": "stream",
          "text": [
            "ashway ouryay andshay orfay atway eastlay 23.7 econdssay \n",
            "oughcay intoway ouryay elbowway \n"
          ],
          "name": "stdout"
        }
      ]
    },
    {
      "cell_type": "code",
      "metadata": {
        "id": "2Bbj1qOzfjXS",
        "colab_type": "code",
        "outputId": "30becefc-17e7-47e5-fc66-f25348453ee5",
        "colab": {
          "base_uri": "https://localhost:8080/",
          "height": 172
        }
      },
      "source": [
        "help(igpayTranslator)"
      ],
      "execution_count": 0,
      "outputs": [
        {
          "output_type": "error",
          "ename": "NameError",
          "evalue": "ignored",
          "traceback": [
            "\u001b[0;31m---------------------------------------------------------------------------\u001b[0m",
            "\u001b[0;31mNameError\u001b[0m                                 Traceback (most recent call last)",
            "\u001b[0;32m<ipython-input-74-934d269c6be1>\u001b[0m in \u001b[0;36m<module>\u001b[0;34m()\u001b[0m\n\u001b[0;32m----> 1\u001b[0;31m \u001b[0mhelp\u001b[0m\u001b[0;34m(\u001b[0m\u001b[0migpayTranslator\u001b[0m\u001b[0;34m)\u001b[0m\u001b[0;34m\u001b[0m\u001b[0;34m\u001b[0m\u001b[0m\n\u001b[0m",
            "\u001b[0;31mNameError\u001b[0m: name 'igpayTranslator' is not defined"
          ]
        }
      ]
    },
    {
      "cell_type": "code",
      "metadata": {
        "id": "OlrJrGOCfp2c",
        "colab_type": "code",
        "colab": {}
      },
      "source": [
        ""
      ],
      "execution_count": 0,
      "outputs": []
    }
  ]
}